{
  "nbformat": 4,
  "nbformat_minor": 0,
  "metadata": {
    "colab": {
      "private_outputs": true,
      "provenance": [],
      "include_colab_link": true
    },
    "kernelspec": {
      "name": "ir",
      "display_name": "R"
    },
    "language_info": {
      "name": "R"
    },
    "gpuClass": "standard"
  },
  "cells": [
    {
      "cell_type": "markdown",
      "metadata": {
        "id": "view-in-github",
        "colab_type": "text"
      },
      "source": [
        "<a href=\"https://colab.research.google.com/github/Hiroki-Abe/Baranyi_fitting/blob/main/Extra/New_Rstan_Code.ipynb\" target=\"_parent\"><img src=\"https://colab.research.google.com/assets/colab-badge.svg\" alt=\"Open In Colab\"/></a>"
      ]
    },
    {
      "cell_type": "code",
      "execution_count": null,
      "metadata": {
        "id": "jJ2jYAmYa9xh"
      },
      "outputs": [],
      "source": [
        "##As of January 2021, it is working well.\n",
        "x<-installed.packages()\n",
        "if(any(x[,1]== 'rstan') == FALSE){\n",
        "    system(\"add-apt-repository -y ppa:marutter/rrutter4.0\")\n",
        "    system(\"add-apt-repository -y ppa:c2d4u.team/c2d4u4.0+\") \n",
        "    system(\"add-apt-repository ppa:cran/v8\") \n",
        "    system(\"apt-get update\") \n",
        "    system(\"apt-get install libnode-dev\") \n",
        "    system(\"apt-get install r-cran-rstan\")\n",
        "}"
      ]
    },
    {
      "cell_type": "code",
      "source": [
        "#Loading the Rstan package.\n",
        "library(rstan)"
      ],
      "metadata": {
        "id": "lBYjnM09mzil"
      },
      "execution_count": null,
      "outputs": []
    }
  ]
}